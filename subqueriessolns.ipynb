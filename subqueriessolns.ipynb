{
    "metadata": {
        "kernelspec": {
            "name": "SQL",
            "display_name": "SQL",
            "language": "sql"
        },
        "language_info": {
            "name": "sql",
            "version": ""
        }
    },
    "nbformat_minor": 2,
    "nbformat": 4,
    "cells": [
        {
            "cell_type": "markdown",
            "source": [
                "```\n",
                "Write a query to list out only captains who have never had a shipment\n",
                "```"
            ],
            "metadata": {
                "azdata_cell_guid": "1023bd43-50a8-4607-8e77-46e2d519d8f3"
            },
            "attachments": {}
        },
        {
            "cell_type": "code",
            "source": [
                "use shoretoshore;\n",
                "select lname,fname\n",
                "from captain where capt_id not in \n",
                "(select capt_id from shipment);"
            ],
            "metadata": {
                "azdata_cell_guid": "356d18a2-cd79-42ca-9d8c-52530836d1ee",
                "language": "sql"
            },
            "outputs": [
                {
                    "output_type": "display_data",
                    "data": {
                        "text/html": "(1 row affected)"
                    },
                    "metadata": {}
                },
                {
                    "output_type": "display_data",
                    "data": {
                        "text/html": "Total execution time: 00:00:00.404"
                    },
                    "metadata": {}
                },
                {
                    "output_type": "execute_result",
                    "execution_count": 4,
                    "data": {
                        "application/vnd.dataresource+json": {
                            "schema": {
                                "fields": [
                                    {
                                        "name": "lname"
                                    },
                                    {
                                        "name": "fname"
                                    }
                                ]
                            },
                            "data": [
                                {
                                    "lname": "Levinchuck",
                                    "fname": "Phillip"
                                }
                            ]
                        },
                        "text/html": "<table><tr><th>lname</th><th>fname</th></tr><tr><td>Levinchuck</td><td>Phillip</td></tr></table>"
                    },
                    "metadata": {}
                }
            ],
            "execution_count": 4
        },
        {
            "cell_type": "markdown",
            "source": [
                "<span style=\"font-size: 20pt; font-family: Arial, sans-serif; color: rgb(34, 34, 34); background-color: transparent; font-variant-numeric: normal; font-variant-east-asian: normal; font-variant-alternates: normal; font-variant-position: normal; vertical-align: baseline; white-space-collapse: preserve;\">Write a query to list all ships that have a capacity greater than the average capacity for all ships.</span>"
            ],
            "metadata": {
                "azdata_cell_guid": "58da56c8-e7c7-469d-bdb7-53ace876a34a"
            },
            "attachments": {}
        },
        {
            "cell_type": "code",
            "source": [
                "select ship_no from ship\n",
                "where capacity > (select avg(capacity) from ship);"
            ],
            "metadata": {
                "azdata_cell_guid": "4feeaefb-0c32-4f8d-be47-b783415ae262",
                "language": "sql"
            },
            "outputs": [
                {
                    "output_type": "display_data",
                    "data": {
                        "text/html": "(3 rows affected)"
                    },
                    "metadata": {}
                },
                {
                    "output_type": "display_data",
                    "data": {
                        "text/html": "Total execution time: 00:00:00.083"
                    },
                    "metadata": {}
                },
                {
                    "output_type": "execute_result",
                    "execution_count": 5,
                    "data": {
                        "application/vnd.dataresource+json": {
                            "schema": {
                                "fields": [
                                    {
                                        "name": "ship_no"
                                    }
                                ]
                            },
                            "data": [
                                {
                                    "ship_no": "37"
                                },
                                {
                                    "ship_no": "39"
                                },
                                {
                                    "ship_no": "6"
                                }
                            ]
                        },
                        "text/html": "<table><tr><th>ship_no</th></tr><tr><td>37</td></tr><tr><td>39</td></tr><tr><td>6</td></tr></table>"
                    },
                    "metadata": {}
                }
            ],
            "execution_count": 5
        },
        {
            "cell_type": "markdown",
            "source": [
                "<span style=\"font-size: 20pt; font-family: Arial, sans-serif; color: rgb(34, 34, 34); background-color: transparent; font-variant-numeric: normal; font-variant-east-asian: normal; font-variant-alternates: normal; font-variant-position: normal; vertical-align: baseline; white-space-collapse: preserve;\">Modify the query in number 2 to use the average capacity for the class of ship</span>"
            ],
            "metadata": {
                "azdata_cell_guid": "f399ce29-0d19-4c5a-9091-014ef7a75151"
            },
            "attachments": {}
        },
        {
            "cell_type": "code",
            "source": [
                "select ship_no from ship\n",
                "where capacity > (select avg(capacity) from ship s1 \n",
                "where s1.class = ship.class);"
            ],
            "metadata": {
                "azdata_cell_guid": "9c45aaa5-d395-443e-a0e1-3d6869219f25",
                "language": "sql"
            },
            "outputs": [
                {
                    "output_type": "display_data",
                    "data": {
                        "text/html": "(4 rows affected)"
                    },
                    "metadata": {}
                },
                {
                    "output_type": "display_data",
                    "data": {
                        "text/html": "Total execution time: 00:00:00.187"
                    },
                    "metadata": {}
                },
                {
                    "output_type": "execute_result",
                    "execution_count": 6,
                    "data": {
                        "application/vnd.dataresource+json": {
                            "schema": {
                                "fields": [
                                    {
                                        "name": "ship_no"
                                    }
                                ]
                            },
                            "data": [
                                {
                                    "ship_no": "39"
                                },
                                {
                                    "ship_no": "6"
                                },
                                {
                                    "ship_no": "16"
                                },
                                {
                                    "ship_no": "10"
                                }
                            ]
                        },
                        "text/html": "<table><tr><th>ship_no</th></tr><tr><td>39</td></tr><tr><td>6</td></tr><tr><td>16</td></tr><tr><td>10</td></tr></table>"
                    },
                    "metadata": {}
                }
            ],
            "execution_count": 6
        },
        {
            "cell_type": "markdown",
            "source": [
                "<span style=\"font-size: 20pt; font-family: Arial, sans-serif; color: rgb(34, 34, 34); background-color: transparent; font-variant-numeric: normal; font-variant-east-asian: normal; font-variant-alternates: normal; font-variant-position: normal; vertical-align: baseline; white-space-collapse: preserve;\">find all captains of ships that carried concrete forms at some point in time</span>"
            ],
            "metadata": {
                "azdata_cell_guid": "4a36d896-a834-405d-87e3-f2dc960db44e"
            },
            "attachments": {}
        },
        {
            "cell_type": "code",
            "source": [
                "use shoretoshore;\n",
                "select lname,fname\n",
                "from captain inner join shipment\n",
                "on captain.capt_id = shipment.capt_id\n",
                "where shipment_id in (select shipment_id\n",
                "from shipment_line inner join item\n",
                "on item.item_no = shipment_line.item_no\n",
                "where description = 'Concrete Forms');\n",
                ""
            ],
            "metadata": {
                "azdata_cell_guid": "a33467fc-f680-4ce9-968c-6fb531e6e612",
                "language": "sql"
            },
            "outputs": [
                {
                    "output_type": "display_data",
                    "data": {
                        "text/html": "(4 rows affected)"
                    },
                    "metadata": {}
                },
                {
                    "output_type": "display_data",
                    "data": {
                        "text/html": "Total execution time: 00:00:00.432"
                    },
                    "metadata": {}
                },
                {
                    "output_type": "execute_result",
                    "execution_count": 4,
                    "data": {
                        "application/vnd.dataresource+json": {
                            "schema": {
                                "fields": [
                                    {
                                        "name": "lname"
                                    },
                                    {
                                        "name": "fname"
                                    }
                                ]
                            },
                            "data": [
                                {
                                    "lname": "Smith",
                                    "fname": "Mark"
                                },
                                {
                                    "lname": "Rice",
                                    "fname": "Paul"
                                },
                                {
                                    "lname": "Levine",
                                    "fname": "Sal"
                                },
                                {
                                    "lname": "Smith",
                                    "fname": "John"
                                }
                            ]
                        },
                        "text/html": "<table><tr><th>lname</th><th>fname</th></tr><tr><td>Smith</td><td>Mark</td></tr><tr><td>Rice</td><td>Paul</td></tr><tr><td>Levine</td><td>Sal</td></tr><tr><td>Smith</td><td>John</td></tr></table>"
                    },
                    "metadata": {}
                }
            ],
            "execution_count": 4
        },
        {
            "cell_type": "markdown",
            "source": [
                "<span style=\"background-color: transparent; font-size: 20pt; white-space-collapse: preserve; color: rgb(34, 34, 34); font-family: Arial, sans-serif;\">Find manufacturers of ships that have been loaded above capacity.</span>"
            ],
            "metadata": {
                "azdata_cell_guid": "d2c4aa68-e917-45c6-918d-c508d6d4bdc3"
            },
            "attachments": {}
        },
        {
            "cell_type": "markdown",
            "source": [
                ""
            ],
            "metadata": {
                "azdata_cell_guid": "92a45a8f-ccbe-4f1f-89e3-c1727273134c"
            }
        },
        {
            "cell_type": "code",
            "source": [
                "use shoretoshore;\n",
                "select name from manufacturer\n",
                "where manufacturer_id in (\n",
                "    select manufacturer_id from ship\n",
                "    inner join shipment on shipment.ship_no = \n",
                "    ship.ship_no inner join \n",
                "    (select shipment_id, sum(weight*quantity) as totweight\n",
                "    from shipment_line inner join item\n",
                "    on item.item_no = shipment_line.item_no\n",
                "    group by shipment_id) shpwt\n",
                "    on shpwt.shipment_id = shipment.shipment_id\n",
                "    where capacity < shpwt.totweight);\n",
                ""
            ],
            "metadata": {
                "azdata_cell_guid": "66bbee5a-e26b-4a55-b68e-b3133f68818d",
                "language": "sql"
            },
            "outputs": [
                {
                    "output_type": "display_data",
                    "data": {
                        "text/html": "(5 rows affected)"
                    },
                    "metadata": {}
                },
                {
                    "output_type": "display_data",
                    "data": {
                        "text/html": "Total execution time: 00:00:01.492"
                    },
                    "metadata": {}
                },
                {
                    "output_type": "execute_result",
                    "execution_count": 9,
                    "data": {
                        "application/vnd.dataresource+json": {
                            "schema": {
                                "fields": [
                                    {
                                        "name": "name"
                                    }
                                ]
                            },
                            "data": [
                                {
                                    "name": "United Ship Builders"
                                },
                                {
                                    "name": "General Ship Builders"
                                },
                                {
                                    "name": "Master Dynamics"
                                },
                                {
                                    "name": "Asia West Ship Builders"
                                },
                                {
                                    "name": "Best Industries"
                                }
                            ]
                        },
                        "text/html": "<table><tr><th>name</th></tr><tr><td>United Ship Builders</td></tr><tr><td>General Ship Builders</td></tr><tr><td>Master Dynamics</td></tr><tr><td>Asia West Ship Builders</td></tr><tr><td>Best Industries</td></tr></table>"
                    },
                    "metadata": {}
                }
            ],
            "execution_count": 9
        }
    ]
}